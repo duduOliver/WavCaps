{
 "cells": [
  {
   "cell_type": "code",
   "execution_count": 1,
   "metadata": {},
   "outputs": [
    {
     "name": "stdout",
     "output_type": "stream",
     "text": [
      "/gpfs/home/dhuang/thesis/WavCaps\n",
      "/home/dhuang/.conda/envs/fs/lib/python310.zip\n",
      "/home/dhuang/.conda/envs/fs/lib/python3.10\n",
      "/home/dhuang/.conda/envs/fs/lib/python3.10/lib-dynload\n",
      "\n",
      "/home/dhuang/.conda/envs/fs/lib/python3.10/site-packages\n",
      "/home/dhuang/.conda/envs/fs/lib/python3.10/site-packages/huggingface_hub-0.14.1-py3.8.egg\n",
      "/home/dhuang/.conda/envs/fs/lib/python3.10/site-packages/mpmath-1.2.1-py3.10.egg\n",
      "/home/dhuang/.conda/envs/fs/lib/python3.10/site-packages/sentencepiece-0.1.95-py3.10-linux-x86_64.egg\n",
      "/gpfs/home/dhuang/thesis/WavCaps/retrieval/models\n",
      "/gpfs/home/dhuang/thesis/WavCaps/retrieval/tools\n"
     ]
    }
   ],
   "source": [
    "# https://stackoverflow.com/questions/39299838/how-do-i-import-module-in-jupyter-notebook-directory-into-notebooks-in-lower-dir\n",
    "# https://stackoverflow.com/questions/68572852/import-local-modules-in-jupyter-notebook\n",
    "import os\n",
    "import sys\n",
    "# os.path.split(os.getcwd())[0]\n",
    "sys.path.append(\"/gpfs/home/dhuang/thesis/WavCaps/retrieval/models\")\n",
    "sys.path.append(\"/gpfs/home/dhuang/thesis/WavCaps/retrieval/tools\")\n",
    "for nb_dir in sys.path:\n",
    "    print(nb_dir)\n",
    "    # sys.path.append(nb_dir)\n"
   ]
  },
  {
   "cell_type": "code",
   "execution_count": 22,
   "metadata": {},
   "outputs": [],
   "source": [
    "import torch\n",
    "import torch.nn as nn\n",
    "from models.audio_encoder import AudioEncoder\n",
    "from models.text_encoder import TextEncoder\n",
    "import torch.nn.functional as F\n",
    "import copy\n",
    "from tools.losses import AudioTextContrastiveLoss, NTXent\n",
    "from tools.utils import remove_grad\n",
    "import ruamel.yaml as yaml\n",
    "import librosa\n",
    "import random\n",
    "import numpy as np\n"
   ]
  },
  {
   "cell_type": "code",
   "execution_count": 15,
   "metadata": {},
   "outputs": [],
   "source": [
    "config_file_path = './settings/baseline.yaml'\n",
    "\n",
    "with open(config_file_path, \"r\") as f:\n",
    "        config = yaml.safe_load(f)"
   ]
  },
  {
   "cell_type": "code",
   "execution_count": 26,
   "metadata": {},
   "outputs": [
    {
     "name": "stdout",
     "output_type": "stream",
     "text": [
      "waveform shape before crop:  (480000,)\n",
      "waveform shape:  (320000,)\n",
      "waveform_tensor shape:  torch.Size([1, 320000])\n"
     ]
    }
   ],
   "source": [
    "# Load audio signal file\n",
    "wav_file_path = '../../dac/audio_samples/at2_cvt.wav'\n",
    "waveform, _ = librosa.load(wav_file_path, sr=config[\"audio_args\"][\"sr\"], mono=True)\n",
    "print('waveform shape before crop: ', waveform.shape)\n",
    "if config[\"audio_args\"][\"max_length\"] != 0:\n",
    "            # if audio length is longer than max_length, we random crop it\n",
    "            max_length = config[\"audio_args\"][\"max_length\"] * config[\"audio_args\"][\"sr\"]\n",
    "            if waveform.shape[-1] > max_length:\n",
    "                max_start = waveform.shape[-1] - max_length\n",
    "                start = random.randint(0, max_start)\n",
    "                waveform = waveform[start: start + max_length]\n",
    "                \n",
    "print('waveform shape: ', waveform.shape)\n",
    "waveform_tensor = torch.tensor(waveform[None, :])\n",
    "print('waveform_tensor shape: ', waveform_tensor.shape)\n"
   ]
  },
  {
   "cell_type": "code",
   "execution_count": 18,
   "metadata": {},
   "outputs": [],
   "source": [
    "audio_encoder = AudioEncoder(config)\n",
    "# settings for projection layers\n",
    "embed_size = config[\"embed_size\"]\n",
    "audio_width = audio_encoder.audio_width"
   ]
  },
  {
   "cell_type": "code",
   "execution_count": null,
   "metadata": {},
   "outputs": [],
   "source": [
    "# audio_encoded = audio_encoder.audio_enc(inputs)"
   ]
  },
  {
   "cell_type": "code",
   "execution_count": 29,
   "metadata": {},
   "outputs": [
    {
     "name": "stdout",
     "output_type": "stream",
     "text": [
      "audio_encoded.shape:  torch.Size([1, 768])\n"
     ]
    }
   ],
   "source": [
    "with torch.no_grad():\n",
    "    # audio_encoded = audio_encoder.audio_enc(np.ndarray([[0], waveform]) )\n",
    "    audio_encoded = audio_encoder.audio_enc(waveform_tensor)\n",
    "    # audio_encoded = audio_encoder.audio_enc(torch.randn(1, 1, 64, 1024))\n",
    "    # audio_feats = audio_encoder(waveform)\n",
    "    # audio_embeds = F.normalize(audio_proj(audio_feats), dim=-1)\n",
    "\n",
    "print('audio_encoded.shape: ', audio_encoded.shape)"
   ]
  },
  {
   "cell_type": "code",
   "execution_count": null,
   "metadata": {},
   "outputs": [],
   "source": []
  }
 ],
 "metadata": {
  "kernelspec": {
   "display_name": "fs",
   "language": "python",
   "name": "python3"
  },
  "language_info": {
   "codemirror_mode": {
    "name": "ipython",
    "version": 3
   },
   "file_extension": ".py",
   "mimetype": "text/x-python",
   "name": "python",
   "nbconvert_exporter": "python",
   "pygments_lexer": "ipython3",
   "version": "3.10.10"
  }
 },
 "nbformat": 4,
 "nbformat_minor": 2
}
