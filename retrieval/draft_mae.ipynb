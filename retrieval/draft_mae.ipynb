{
 "cells": [
  {
   "cell_type": "code",
   "execution_count": 1,
   "metadata": {},
   "outputs": [
    {
     "name": "stderr",
     "output_type": "stream",
     "text": [
      "INFO:numexpr.utils:Note: NumExpr detected 56 cores but \"NUMEXPR_MAX_THREADS\" not set, so enforcing safe limit of 8.\n",
      "INFO:numexpr.utils:NumExpr defaulting to 8 threads.\n"
     ]
    }
   ],
   "source": [
    "import torch\n",
    "import torch.nn as nn\n",
    "from models.audio_encoder import AudioEncoder\n",
    "from models.text_encoder import TextEncoder\n",
    "import torch.nn.functional as F\n",
    "import copy\n",
    "from tools.losses import AudioTextContrastiveLoss, NTXent\n",
    "from tools.utils import remove_grad\n",
    "import ruamel.yaml as yaml\n",
    "import librosa\n",
    "import random\n",
    "import numpy as np\n"
   ]
  },
  {
   "cell_type": "code",
   "execution_count": 2,
   "metadata": {},
   "outputs": [],
   "source": [
    "config_file_path = './settings/vamp.yaml'\n",
    "\n",
    "with open(config_file_path, \"r\") as f:\n",
    "        config = yaml.safe_load(f)"
   ]
  },
  {
   "cell_type": "code",
   "execution_count": 3,
   "metadata": {},
   "outputs": [
    {
     "name": "stdout",
     "output_type": "stream",
     "text": [
      "waveform shape before crop:  (661500,)\n",
      "waveform shape:  (441000,)\n",
      "waveform_tensor shape:  torch.Size([1, 441000])\n"
     ]
    }
   ],
   "source": [
    "# Load audio signal file\n",
    "wav_file_path = '../../dac/audio_samples/at2_cvt.wav'\n",
    "waveform, _ = librosa.load(wav_file_path, sr=config[\"audio_args\"][\"sr\"], mono=True)\n",
    "print('waveform shape before crop: ', waveform.shape)\n",
    "if config[\"audio_args\"][\"max_length\"] != 0:\n",
    "            # if audio length is longer than max_length, we random crop it\n",
    "            max_length = config[\"audio_args\"][\"max_length\"] * config[\"audio_args\"][\"sr\"]\n",
    "            if waveform.shape[-1] > max_length:\n",
    "                max_start = waveform.shape[-1] - max_length\n",
    "                start = random.randint(0, max_start)\n",
    "                waveform = waveform[start: start + max_length]\n",
    "                \n",
    "print('waveform shape: ', waveform.shape)\n",
    "waveform_tensor = torch.tensor(waveform[None, :])\n",
    "print('waveform_tensor shape: ', waveform_tensor.shape)\n"
   ]
  },
  {
   "cell_type": "code",
   "execution_count": 4,
   "metadata": {},
   "outputs": [
    {
     "name": "stdout",
     "output_type": "stream",
     "text": [
      "torch.Size([5, 441000])\n"
     ]
    }
   ],
   "source": [
    "batch_size = 5\n",
    "batch_waveform_tensor = waveform_tensor.repeat(batch_size, 1)\n",
    "print(batch_waveform_tensor.shape)"
   ]
  },
  {
   "cell_type": "code",
   "execution_count": 1,
   "metadata": {},
   "outputs": [
    {
     "name": "stdout",
     "output_type": "stream",
     "text": [
      "target_bandwidths have: [1.5, 3.0, 6, 12.0, 24.0]\n",
      "wav shape: torch.Size([1, 1, 360000])\n",
      "codes shape: torch.Size([1, 8, 1125])\n"
     ]
    }
   ],
   "source": [
    "from encodec import EncodecModel\n",
    "from encodec.utils import convert_audio\n",
    "\n",
    "import torchaudio\n",
    "import torch\n",
    "\n",
    "# Instantiate a pretrained EnCodec model\n",
    "model = EncodecModel.encodec_model_24khz()\n",
    "print(\"target_bandwidths have:\", model.target_bandwidths) # [1.5, 3.0, 6, 12.0, 24.0] \n",
    "model.set_target_bandwidth(6.0) # means 8 quantizers, 24.0 == 32 n_q\n",
    "\n",
    "# Load and pre-process the audio waveform\n",
    "wav, sr = torchaudio.load(\"../../dac/audio_samples/at2_cvt.wav\")\n",
    "wav = wav.unsqueeze(0)\n",
    "wav = convert_audio(wav, sr, model.sample_rate, model.channels)\n",
    "print(\"wav shape:\", wav.shape)\n",
    "\n",
    "# Extract discrete codes from EnCodec\n",
    "encoded_frames = model.encode(wav)\n",
    "codes = torch.cat([encoded[0] for encoded in encoded_frames], dim=-1)  # [B, n_q, T]\n",
    "print(\"codes shape:\", codes.shape)"
   ]
  },
  {
   "cell_type": "code",
   "execution_count": 4,
   "metadata": {},
   "outputs": [
    {
     "data": {
      "text/plain": [
       "torch.Size([1024, 128])"
      ]
     },
     "execution_count": 4,
     "metadata": {},
     "output_type": "execute_result"
    }
   ],
   "source": [
    "model.quantizer.vq.layers[0]._codebook.embed.shape"
   ]
  },
  {
   "cell_type": "code",
   "execution_count": 3,
   "metadata": {},
   "outputs": [
    {
     "data": {
      "text/plain": [
       "tensor([[ 5.3395, 13.1336, -3.3514,  ...,  2.2543, -4.5506,  3.7425],\n",
       "        [ 2.5562, 13.8098, -5.7393,  ...,  0.4362, -2.5406,  1.5548],\n",
       "        [ 3.9551, 12.0306, -6.5480,  ...,  1.6861, -5.3334,  1.3966],\n",
       "        ...,\n",
       "        [ 2.3868, 11.8062, -3.8374,  ..., -0.3132, -3.2393,  1.8929],\n",
       "        [ 1.1349, 11.0860, -2.8491,  ..., -0.6624, -1.4591,  1.9885],\n",
       "        [ 3.7719, 12.2859, -3.8640,  ...,  1.1728, -3.3949,  3.3238]])"
      ]
     },
     "execution_count": 3,
     "metadata": {},
     "output_type": "execute_result"
    }
   ],
   "source": [
    "model.quantizer.vq.layers[0]._codebook.embed # to show the 5+1=6th codebook of RVQ. shape is (1024,128) corresponding to (nbr_entries, dimensionality)\n"
   ]
  },
  {
   "cell_type": "code",
   "execution_count": 12,
   "metadata": {},
   "outputs": [
    {
     "data": {
      "text/plain": [
       "torch.Size([1, 8, 1125])"
      ]
     },
     "execution_count": 12,
     "metadata": {},
     "output_type": "execute_result"
    }
   ],
   "source": [
    "encoded_frames[0][0].shape"
   ]
  },
  {
   "cell_type": "code",
   "execution_count": 13,
   "metadata": {},
   "outputs": [
    {
     "data": {
      "text/plain": [
       "tensor([738, 244, 843,  ..., 106, 106, 121])"
      ]
     },
     "execution_count": 13,
     "metadata": {},
     "output_type": "execute_result"
    }
   ],
   "source": [
    "encoded_frames[0][0][0][0]"
   ]
  },
  {
   "cell_type": "code",
   "execution_count": null,
   "metadata": {},
   "outputs": [],
   "source": []
  },
  {
   "cell_type": "code",
   "execution_count": 10,
   "metadata": {},
   "outputs": [
    {
     "name": "stdout",
     "output_type": "stream",
     "text": [
      "audio_sample shape: (107520,)\n",
      "inputs: {'padding_mask': tensor([[1, 1, 1,  ..., 1, 1, 1]], dtype=torch.int32), 'input_values': tensor([[[ 0.0020,  0.0008, -0.0011,  ..., -0.0006, -0.0008, -0.0005]]])}\n",
      "encoder_outputs.audio_codes shape: torch.Size([1, 1, 2, 336])\n",
      "encoder_outputs.audio_scales length: 1\n",
      "[None]\n"
     ]
    }
   ],
   "source": [
    "\n",
    "from datasets import load_dataset, Audio\n",
    "from transformers import EncodecModel, AutoProcessor, EncodecFeatureExtractor\n",
    "import torchaudio\n",
    "from encodec.utils import convert_audio\n",
    "\n",
    "# wav, sr = torchaudio.load(\"../../dac/audio_samples/at2_cvt.wav\")\n",
    "# wav = wav.unsqueeze(0)\n",
    "# wav = convert_audio(wav, sr, 24000, 1)\n",
    "# print(\"wav shape:\", wav.shape)\n",
    "\n",
    "librispeech_dummy = load_dataset(\"hf-internal-testing/librispeech_asr_dummy\", \"clean\", split=\"validation\")\n",
    "\n",
    "model = EncodecModel.from_pretrained(\"facebook/encodec_24khz\")\n",
    "processor = AutoProcessor.from_pretrained(\"facebook/encodec_24khz\")\n",
    "librispeech_dummy = librispeech_dummy.cast_column(\"audio\", Audio(sampling_rate=processor.sampling_rate))\n",
    "audio_sample = librispeech_dummy[-1][\"audio\"][\"array\"]\n",
    "\n",
    "# audio_sample = wav\n",
    "print(\"audio_sample shape:\", audio_sample.shape)\n",
    "inputs = processor(raw_audio=audio_sample, sampling_rate=processor.sampling_rate, return_tensors=\"pt\")\n",
    "print(\"inputs:\", inputs)\n",
    "encoder_outputs = model.encode(inputs[\"input_values\"], inputs[\"padding_mask\"])\n",
    "print(\"encoder_outputs.audio_codes shape:\", encoder_outputs.audio_codes.shape)\n",
    "# print( encoder_outputs.audio_codes)\n",
    "print(\"encoder_outputs.audio_scales length:\", len(encoder_outputs.audio_scales))\n",
    "print( encoder_outputs.audio_scales)\n",
    "# audio_values = model.decode(encoder_outputs.audio_codes, encoder_outputs.audio_scales, inputs[\"padding_mask\"])[0]\n",
    "# print(\"audio_values shape:\", audio_values.shape)\n",
    "# print(audio_values)\n",
    "# or the equivalent with a forward pass\n",
    "# audio_values = model(inputs[\"input_values\"], inputs[\"padding_mask\"]).audio_values\n",
    "# print(\"audio_values shape:\", audio_values.shape)\n",
    "# print(audio_values)\n"
   ]
  },
  {
   "cell_type": "code",
   "execution_count": null,
   "metadata": {},
   "outputs": [],
   "source": []
  },
  {
   "cell_type": "code",
   "execution_count": 5,
   "metadata": {},
   "outputs": [
    {
     "name": "stdout",
     "output_type": "stream",
     "text": [
      "loading model hugggof/vampnet-models:vampnet-9codebook-linear-sched-best from the huggingface hub.\n"
     ]
    }
   ],
   "source": [
    "audio_encoder = AudioEncoder(config)\n",
    "# settings for projection layers\n",
    "embed_size = config[\"embed_size\"]\n",
    "audio_width = audio_encoder.audio_width"
   ]
  },
  {
   "cell_type": "code",
   "execution_count": 6,
   "metadata": {},
   "outputs": [
    {
     "name": "stdout",
     "output_type": "stream",
     "text": [
      "audio_encoded.shape:  torch.Size([1, 1280, 861])\n"
     ]
    },
    {
     "data": {
      "text/plain": [
       "tensor([[[ 0.1130,  0.1130,  0.1130,  ...,  0.1130,  0.1130,  0.1130],\n",
       "         [-0.1961, -0.1961, -0.1961,  ..., -0.1961, -0.1961, -0.1961],\n",
       "         [-0.1603, -0.1603, -0.1603,  ..., -0.1603, -0.1603, -0.1603],\n",
       "         ...,\n",
       "         [ 0.1852,  0.1852,  0.1852,  ...,  0.1852,  0.1852,  0.1852],\n",
       "         [ 0.1420,  0.1420,  0.1420,  ...,  0.1420,  0.1420,  0.1420],\n",
       "         [ 0.0394,  0.0394,  0.0394,  ...,  0.0394,  0.0394,  0.0394]]],\n",
       "       grad_fn=<CatBackward0>)"
      ]
     },
     "execution_count": 6,
     "metadata": {},
     "output_type": "execute_result"
    }
   ],
   "source": [
    "audio_feats = audio_encoder(batch_waveform_tensor)\n",
    "# audio_embeds = F.normalize(self.audio_proj(audio_feats), dim=-1)\n",
    "print('audio_encoded.shape: ', audio_feats.shape)\n",
    "audio_feats"
   ]
  },
  {
   "cell_type": "code",
   "execution_count": null,
   "metadata": {},
   "outputs": [],
   "source": []
  }
 ],
 "metadata": {
  "kernelspec": {
   "display_name": "fs",
   "language": "python",
   "name": "python3"
  },
  "language_info": {
   "codemirror_mode": {
    "name": "ipython",
    "version": 3
   },
   "file_extension": ".py",
   "mimetype": "text/x-python",
   "name": "python",
   "nbconvert_exporter": "python",
   "pygments_lexer": "ipython3",
   "version": "3.10.10"
  }
 },
 "nbformat": 4,
 "nbformat_minor": 2
}
